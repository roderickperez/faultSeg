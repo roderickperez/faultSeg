{
 "cells": [
  {
   "cell_type": "markdown",
   "metadata": {},
   "source": [
    "# Fault Segmentation Training Interface"
   ]
  },
  {
   "cell_type": "code",
   "execution_count": null,
   "metadata": {},
   "outputs": [],
   "source": [
    "import ipywidgets as widgets\n",
    "from IPython.display import display"
   ]
  },
  {
   "cell_type": "markdown",
   "metadata": {},
   "source": [
    "## Select Training Parameters"
   ]
  },
  {
   "cell_type": "code",
   "execution_count": null,
   "metadata": {},
   "outputs": [],
   "source": [
    "framework = widgets.Dropdown(\n",
    "    options=['pytorch', 'tensorflow'],\n",
    "    value='pytorch',\n",
    "    description='Framework:',\n",
    "    disabled=False,\n",
    ")\n",
    "\n",
    "learning_rate = widgets.FloatText(\n",
    "    value=1e-4,\n",
    "    description='Learning Rate:',\n",
    "    disabled=False\n",
    ")\n",
    "\n",
    "batch_size = widgets.IntText(\n",
    "    value=1,\n",
    "    description='Batch Size:',\n",
    "    disabled=False\n",
    ")\n",
    "\n",
    "epochs = widgets.IntText(\n",
    "    value=100,\n",
    "    description='Epochs:',\n",
    "    disabled=False\n",
    ")\n",
    "\n",
    "display(framework, learning_rate, batch_size, epochs)"
   ]
  },
  {
   "cell_type": "markdown",
   "metadata": {},
   "source": [
    "## Run Training"
   ]
  },
  {
   "cell_type": "code",
   "execution_count": null,
   "metadata": {},
   "outputs": [],
   "source": [
    "import os\n",
    "\n",
    "button = widgets.Button(description=\"Start Training\")\n",
    "output = widgets.Output()\n",
    "\n",
    "def on_button_clicked(b):\n",
    "    with output:\n",
    "        if framework.value == 'tensorflow':\n",
    "            os.system(f\"python faultSeg_Wu_2019_Keras/train_tensorflow.py --framework {framework.value} --learning_rate {learning_rate.value} --batch_size {batch_size.value} --epochs {epochs.value}\")\n",
    "        elif framework.value == 'pytorch':\n",
    "            os.system(f\"python faultSeg_Wu_2019_Keras/train_pytorch.py --framework {framework.value} --learning_rate {learning_rate.value} --batch_size {batch_size.value} --epochs {epochs.value}\")\n",
    "\n",
    "button.on_click(on_button_clicked)\n",
    "\n",
    "display(button, output)"
   ]
  }
 ],
 "metadata": {
  "kernelspec": {
   "display_name": "Python 3",
   "language": "python",
   "name": "python3"
  },
  "language_info": {
   "codemirror_mode": {
    "name": "ipython",
    "version": 3
   },
   "file_extension": ".py",
   "mimetype": "text/x-python",
   "name": "python",
   "nbconvert_exporter": "python",
   "pygments_lexer": "ipython3",
   "version": "3.10.12"
  }
 },
 "nbformat": 4,
 "nbformat_minor": 4
}